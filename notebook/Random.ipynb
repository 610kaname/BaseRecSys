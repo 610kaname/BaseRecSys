{
  "nbformat": 4,
  "nbformat_minor": 0,
  "metadata": {
    "colab": {
      "provenance": [],
      "authorship_tag": "ABX9TyObHYJnw2NH74hf2wKWq+ds",
      "include_colab_link": true
    },
    "kernelspec": {
      "name": "python3",
      "display_name": "Python 3"
    },
    "language_info": {
      "name": "python"
    }
  },
  "cells": [
    {
      "cell_type": "markdown",
      "metadata": {
        "id": "view-in-github",
        "colab_type": "text"
      },
      "source": [
        "<a href=\"https://colab.research.google.com/github/610kaname/BaseRecSys/blob/main/notebook/Random.ipynb\" target=\"_parent\"><img src=\"https://colab.research.google.com/assets/colab-badge.svg\" alt=\"Open In Colab\"/></a>"
      ]
    },
    {
      "cell_type": "code",
      "execution_count": 1,
      "metadata": {
        "colab": {
          "base_uri": "https://localhost:8080/"
        },
        "id": "ShOTAC363tX2",
        "outputId": "c0e3189e-b03c-417b-88c6-611ad3836eb3"
      },
      "outputs": [
        {
          "output_type": "stream",
          "name": "stdout",
          "text": [
            "Mounted at /content/drive\n",
            "/content/drive/My Drive/Colab/BaseRecSys/notebook\n"
          ]
        }
      ],
      "source": [
        "# Google Driveの使用。\n",
        "from google.colab import drive\n",
        "drive.mount('/content/drive')\n",
        "\n",
        "# カレントディレクトリをこのノートブックの場所にする。\n",
        "# /content/drive/My Drive/以降は適宜変更\n",
        "%cd '/content/drive/My Drive/Colab/BaseRecSys/notebook'"
      ]
    },
    {
      "cell_type": "code",
      "source": [
        "import sys; sys.path.insert(0, '..')"
      ],
      "metadata": {
        "id": "RCkCsrCu4joW"
      },
      "execution_count": 2,
      "outputs": []
    },
    {
      "cell_type": "code",
      "source": [
        "from util.data_loader import DataLoader\n",
        "from util.metric_calculator import MetricCalculator"
      ],
      "metadata": {
        "id": "KF2PWflZ5LnJ"
      },
      "execution_count": 3,
      "outputs": []
    },
    {
      "cell_type": "code",
      "source": [
        "movielens = DataLoader(num_users=1000, num_test_items=5, data_path='../data/ml-10M100K/').load()"
      ],
      "metadata": {
        "id": "kKJrsYdN5YCy"
      },
      "execution_count": 8,
      "outputs": []
    },
    {
      "cell_type": "code",
      "source": [
        "from src.random import RandomRecommender\n",
        "recommender = RandomRecommender()\n",
        "recommend_result = recommender.recommend(movielens)"
      ],
      "metadata": {
        "id": "iJeojfk16AVM"
      },
      "execution_count": 9,
      "outputs": []
    },
    {
      "cell_type": "code",
      "source": [
        "metric_calculator = MetricCalculator()\n",
        "metrics = metric_calculator.calc(\n",
        "    movielens.test.rating.tolist(), recommend_result.rating.tolist(),\n",
        "    movielens.test_user2items, recommend_result.user2items, k=10)\n",
        "print(metrics)"
      ],
      "metadata": {
        "colab": {
          "base_uri": "https://localhost:8080/"
        },
        "id": "2_CW8O-b7TM-",
        "outputId": "04994e90-75d1-450a-d27b-0c594ba526c4"
      },
      "execution_count": 10,
      "outputs": [
        {
          "output_type": "stream",
          "name": "stdout",
          "text": [
            "rmse=1.883, Precision@K=0.000, Recall@K=0.001\n"
          ]
        }
      ]
    },
    {
      "cell_type": "code",
      "source": [
        "# 同じ結果が返ってくるはず\n",
        "%run ../src/random.py"
      ],
      "metadata": {
        "colab": {
          "base_uri": "https://localhost:8080/"
        },
        "id": "coEsmhcM7XcT",
        "outputId": "119021b5-818e-4b50-eb15-b0abd64f1711"
      },
      "execution_count": 13,
      "outputs": [
        {
          "output_type": "stream",
          "name": "stdout",
          "text": [
            "rmse=1.883, Precision@K=0.000, Recall@K=0.001\n"
          ]
        }
      ]
    }
  ]
}